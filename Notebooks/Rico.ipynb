{
 "cells": [
  {
   "cell_type": "code",
   "execution_count": null,
   "metadata": {
    "collapsed": false
   },
   "outputs": [],
   "source": [
    "import numpy as np\n",
    "import pylab as plt \n",
    "import sys \n",
    "sys.path.append('../')\n",
    "import DataHandler"
   ]
  },
  {
   "cell_type": "code",
   "execution_count": null,
   "metadata": {
    "collapsed": false
   },
   "outputs": [],
   "source": [
    "data_dir = #PUT Path here\n",
    "\n",
    "StatsFile1 = DataHandler.StatsFile(data_dir + '/SB/stats/Stats.Rico.nc')\n",
    "StatsFile2 = DataHandler.StatsFile(data_dir + '/CoSal/stats/Stats.Rico.nc')\n",
    "StatsFile3 = DataHandler.StatsFile(data_dir + '/Co70/stats/Stats.Rico.nc')\n",
    "\n",
    "files = [StatsFile1, StatsFile2, StatsFile3]\n",
    "linemarker = ['-b', '-r', '-g']\n",
    "name = ['SB', 'Arctic', 'Arctic70']\n",
    "\n",
    "tmax = 86400\n",
    "tmin = 86400 - 1 * 3600 \n",
    "zmin = 0.0 \n",
    "zmax = 5000.\n",
    "linewidth = 2.0"
   ]
  },
  {
   "cell_type": "code",
   "execution_count": null,
   "metadata": {
    "collapsed": false
   },
   "outputs": [],
   "source": [
    "plt.figure()\n",
    "count =0 \n",
    "for f in files: \n",
    "    d, z = f.mean('qt_mean', 'profiles',tmin=tmin, tmax=tmax, zmin=zmin, zmax=zmax)\n",
    "    plt.plot(d, z, linemarker[count], label=name[count], linewidth=linewidth)\n",
    "    count += 1\n",
    "plt.grid()\n",
    "plt.legend() \n",
    "plt.show() \n",
    "plt.close()"
   ]
  },
  {
   "cell_type": "code",
   "execution_count": null,
   "metadata": {
    "collapsed": false
   },
   "outputs": [],
   "source": [
    "plt.figure()\n",
    "count =0 \n",
    "for f in files: \n",
    "    d, z = f.mean('thetali_mean', 'profiles',tmin=tmin, tmax=tmax, zmin=zmin, zmax=zmax)\n",
    "    plt.plot(d, z, linemarker[count], label=name[count], linewidth=linewidth)\n",
    "    count += 1\n",
    "plt.grid()\n",
    "plt.legend() \n",
    "plt.show() \n",
    "plt.close()"
   ]
  },
  {
   "cell_type": "code",
   "execution_count": null,
   "metadata": {
    "collapsed": false
   },
   "outputs": [],
   "source": [
    "plt.figure()\n",
    "count =0 \n",
    "for f in files: \n",
    "    d, z = f.mean('ql_mean', 'profiles',tmin=tmin, tmax=tmax, zmin=zmin, zmax=zmax)\n",
    "    plt.plot(d, z, linemarker[count], label=name[count], linewidth=linewidth)\n",
    "    count += 1\n",
    "plt.grid()\n",
    "plt.legend() \n",
    "plt.show() \n",
    "plt.close()"
   ]
  },
  {
   "cell_type": "code",
   "execution_count": null,
   "metadata": {
    "collapsed": false
   },
   "outputs": [],
   "source": [
    "plt.figure()\n",
    "count =0 \n",
    "for f in files: \n",
    "    d, z = f.mean('cloud_fraction', 'profiles',tmin=tmin, tmax=tmax, zmin=zmin, zmax=zmax)\n",
    "    plt.plot(d, z, linemarker[count], label=name[count], linewidth=linewidth)\n",
    "    count += 1\n",
    "plt.grid()\n",
    "plt.legend() \n",
    "plt.show() \n",
    "plt.close()"
   ]
  },
  {
   "cell_type": "code",
   "execution_count": null,
   "metadata": {
    "collapsed": true
   },
   "outputs": [],
   "source": []
  }
 ],
 "metadata": {
  "kernelspec": {
   "display_name": "Python 2",
   "language": "python",
   "name": "python2"
  },
  "language_info": {
   "codemirror_mode": {
    "name": "ipython",
    "version": 2
   },
   "file_extension": ".py",
   "mimetype": "text/x-python",
   "name": "python",
   "nbconvert_exporter": "python",
   "pygments_lexer": "ipython2",
   "version": "2.7.13"
  }
 },
 "nbformat": 4,
 "nbformat_minor": 0
}
